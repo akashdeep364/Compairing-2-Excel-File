{
  "nbformat": 4,
  "nbformat_minor": 0,
  "metadata": {
    "colab": {
      "provenance": []
    },
    "kernelspec": {
      "name": "python3",
      "display_name": "Python 3"
    },
    "language_info": {
      "name": "python"
    }
  },
  "cells": [
    {
      "cell_type": "code",
      "execution_count": 2,
      "metadata": {
        "id": "vQgyWlTrnkkV"
      },
      "outputs": [],
      "source": [
        "import pandas as pd\n",
        "\n",
        "# Read the two Excel files\n",
        "df1 = pd.read_excel('/content/ex1.xlsx')\n",
        "df2 = pd.read_excel('/content/ex2.xlsx')\n",
        "\n",
        "# Find the mismatched values\n",
        "df_diff = pd.concat([df1, df2]).drop_duplicates(keep=False)\n",
        "\n",
        "# Write the mismatched values to a new Excel file\n",
        "df_diff.to_excel('file3.xlsx', index=False)\n"
      ]
    },
    {
      "cell_type": "code",
      "source": [],
      "metadata": {
        "id": "69wHSgkBn56m"
      },
      "execution_count": 2,
      "outputs": []
    },
    {
      "cell_type": "code",
      "source": [],
      "metadata": {
        "id": "WgYs0V7iwjhy"
      },
      "execution_count": null,
      "outputs": []
    }
  ]
}